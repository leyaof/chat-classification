{
 "cells": [
  {
   "cell_type": "markdown",
   "metadata": {},
   "source": [
    "# Introduction"
   ]
  },
  {
   "cell_type": "markdown",
   "metadata": {},
   "source": [
    "In this analysis, I will perform text classification on the ingame chat data in Dota 2 matches. Because of the competitive nature of this team based game, I suspect that the ingame chat history will contain a lot of toxic/salty comments depending if the players are winning or lossing. A breif introduction as well as an exploratory data analysis of game matches can be found [here](https://leyaof.github.io/Notebooks/dota%20analysis.nb.html)."
   ]
  },
  {
   "cell_type": "code",
   "execution_count": 1,
   "metadata": {},
   "outputs": [],
   "source": [
    "import numpy as np\n",
    "import pandas as pd\n",
    "import seaborn as sn\n",
    "from sklearn import metrics\n",
    "import random"
   ]
  },
  {
   "cell_type": "code",
   "execution_count": 2,
   "metadata": {
    "scrolled": false
   },
   "outputs": [],
   "source": [
    "# load dataset\n",
    "columns = [\"match_id\", \"player_slot\", \"chat\", \"unit\", \"radiant_win\"]\n",
    "data = pd.read_csv('match_chat.csv', names=columns, encoding = \"ISO-8859-1\")"
   ]
  },
  {
   "cell_type": "markdown",
   "metadata": {},
   "source": [
    "# Explore dataset"
   ]
  },
  {
   "cell_type": "code",
   "execution_count": 3,
   "metadata": {},
   "outputs": [
    {
     "data": {
      "text/html": [
       "<div>\n",
       "<style scoped>\n",
       "    .dataframe tbody tr th:only-of-type {\n",
       "        vertical-align: middle;\n",
       "    }\n",
       "\n",
       "    .dataframe tbody tr th {\n",
       "        vertical-align: top;\n",
       "    }\n",
       "\n",
       "    .dataframe thead th {\n",
       "        text-align: right;\n",
       "    }\n",
       "</style>\n",
       "<table border=\"1\" class=\"dataframe\">\n",
       "  <thead>\n",
       "    <tr style=\"text-align: right;\">\n",
       "      <th></th>\n",
       "      <th>match_id</th>\n",
       "      <th>player_slot</th>\n",
       "      <th>chat</th>\n",
       "      <th>unit</th>\n",
       "      <th>radiant_win</th>\n",
       "    </tr>\n",
       "  </thead>\n",
       "  <tbody>\n",
       "    <tr>\n",
       "      <th>0</th>\n",
       "      <td>5008252701</td>\n",
       "      <td>4</td>\n",
       "      <td>ty</td>\n",
       "      <td>4</td>\n",
       "      <td>1</td>\n",
       "    </tr>\n",
       "    <tr>\n",
       "      <th>1</th>\n",
       "      <td>5008252701</td>\n",
       "      <td>4</td>\n",
       "      <td>i need to rs</td>\n",
       "      <td>4</td>\n",
       "      <td>1</td>\n",
       "    </tr>\n",
       "    <tr>\n",
       "      <th>2</th>\n",
       "      <td>5008252701</td>\n",
       "      <td>4</td>\n",
       "      <td>`1 min</td>\n",
       "      <td>4</td>\n",
       "      <td>1</td>\n",
       "    </tr>\n",
       "    <tr>\n",
       "      <th>3</th>\n",
       "      <td>5008252701</td>\n",
       "      <td>131</td>\n",
       "      <td>he needs to roshan??</td>\n",
       "      <td>8</td>\n",
       "      <td>1</td>\n",
       "    </tr>\n",
       "    <tr>\n",
       "      <th>4</th>\n",
       "      <td>5008252701</td>\n",
       "      <td>2</td>\n",
       "      <td>lo</td>\n",
       "      <td>2</td>\n",
       "      <td>1</td>\n",
       "    </tr>\n",
       "  </tbody>\n",
       "</table>\n",
       "</div>"
      ],
      "text/plain": [
       "     match_id  player_slot                  chat  unit  radiant_win\n",
       "0  5008252701            4                    ty     4            1\n",
       "1  5008252701            4          i need to rs     4            1\n",
       "2  5008252701            4                `1 min     4            1\n",
       "3  5008252701          131  he needs to roshan??     8            1\n",
       "4  5008252701            2                    lo     2            1"
      ]
     },
     "execution_count": 3,
     "metadata": {},
     "output_type": "execute_result"
    }
   ],
   "source": [
    "# display first few rows of the dataset\n",
    "data.head()"
   ]
  },
  {
   "cell_type": "code",
   "execution_count": 4,
   "metadata": {},
   "outputs": [
    {
     "data": {
      "text/plain": [
       "6810"
      ]
     },
     "execution_count": 4,
     "metadata": {},
     "output_type": "execute_result"
    }
   ],
   "source": [
    "# number of rows in the dataset\n",
    "len(data)"
   ]
  },
  {
   "cell_type": "code",
   "execution_count": 5,
   "metadata": {},
   "outputs": [
    {
     "name": "stdout",
     "output_type": "stream",
     "text": [
      "This dataset has 6810 rows and 5 columns.\n"
     ]
    }
   ],
   "source": [
    "# What is the shape of the dataset\n",
    "\n",
    "print(\"This dataset has {} rows and {} columns.\".format(len(data), len(data.columns)))"
   ]
  },
  {
   "cell_type": "markdown",
   "metadata": {},
   "source": [
    "According to the opendota API, player_slot 0-127 are on the Radiant team, and 128-255 are on the Dire team. Using this information, I will create a new column 'win' which indicates wether a message came from the winning team or lossing team."
   ]
  },
  {
   "cell_type": "code",
   "execution_count": 6,
   "metadata": {
    "scrolled": true
   },
   "outputs": [
    {
     "data": {
      "text/html": [
       "<div>\n",
       "<style scoped>\n",
       "    .dataframe tbody tr th:only-of-type {\n",
       "        vertical-align: middle;\n",
       "    }\n",
       "\n",
       "    .dataframe tbody tr th {\n",
       "        vertical-align: top;\n",
       "    }\n",
       "\n",
       "    .dataframe thead th {\n",
       "        text-align: right;\n",
       "    }\n",
       "</style>\n",
       "<table border=\"1\" class=\"dataframe\">\n",
       "  <thead>\n",
       "    <tr style=\"text-align: right;\">\n",
       "      <th></th>\n",
       "      <th>match_id</th>\n",
       "      <th>player_slot</th>\n",
       "      <th>chat</th>\n",
       "      <th>unit</th>\n",
       "      <th>radiant_win</th>\n",
       "      <th>is_radiant</th>\n",
       "      <th>win</th>\n",
       "    </tr>\n",
       "  </thead>\n",
       "  <tbody>\n",
       "    <tr>\n",
       "      <th>0</th>\n",
       "      <td>5008252701</td>\n",
       "      <td>4</td>\n",
       "      <td>ty</td>\n",
       "      <td>4</td>\n",
       "      <td>1</td>\n",
       "      <td>1</td>\n",
       "      <td>1</td>\n",
       "    </tr>\n",
       "    <tr>\n",
       "      <th>1</th>\n",
       "      <td>5008252701</td>\n",
       "      <td>4</td>\n",
       "      <td>i need to rs</td>\n",
       "      <td>4</td>\n",
       "      <td>1</td>\n",
       "      <td>1</td>\n",
       "      <td>1</td>\n",
       "    </tr>\n",
       "    <tr>\n",
       "      <th>2</th>\n",
       "      <td>5008252701</td>\n",
       "      <td>4</td>\n",
       "      <td>`1 min</td>\n",
       "      <td>4</td>\n",
       "      <td>1</td>\n",
       "      <td>1</td>\n",
       "      <td>1</td>\n",
       "    </tr>\n",
       "    <tr>\n",
       "      <th>3</th>\n",
       "      <td>5008252701</td>\n",
       "      <td>131</td>\n",
       "      <td>he needs to roshan??</td>\n",
       "      <td>8</td>\n",
       "      <td>1</td>\n",
       "      <td>0</td>\n",
       "      <td>0</td>\n",
       "    </tr>\n",
       "    <tr>\n",
       "      <th>4</th>\n",
       "      <td>5008252701</td>\n",
       "      <td>2</td>\n",
       "      <td>lo</td>\n",
       "      <td>2</td>\n",
       "      <td>1</td>\n",
       "      <td>1</td>\n",
       "      <td>1</td>\n",
       "    </tr>\n",
       "  </tbody>\n",
       "</table>\n",
       "</div>"
      ],
      "text/plain": [
       "     match_id  player_slot                  chat  unit  radiant_win  \\\n",
       "0  5008252701            4                    ty     4            1   \n",
       "1  5008252701            4          i need to rs     4            1   \n",
       "2  5008252701            4                `1 min     4            1   \n",
       "3  5008252701          131  he needs to roshan??     8            1   \n",
       "4  5008252701            2                    lo     2            1   \n",
       "\n",
       "   is_radiant  win  \n",
       "0           1    1  \n",
       "1           1    1  \n",
       "2           1    1  \n",
       "3           0    0  \n",
       "4           1    1  "
      ]
     },
     "execution_count": 6,
     "metadata": {},
     "output_type": "execute_result"
    }
   ],
   "source": [
    "data['is_radiant'] = np.where(data['player_slot']<=127, 1, 0)\n",
    "# create a new column call win\n",
    "win_condition = (data['is_radiant'] == data['radiant_win'])\n",
    "data['win'] = np.where(win_condition, 1, 0)\n",
    "data.head()"
   ]
  },
  {
   "cell_type": "markdown",
   "metadata": {},
   "source": [
    "Because of the casual nature of video games, sometimes a sentence is split into multiple messages in the chat. Furthermore, since this is a team game, I will combine all the messages from the same team in each match as one message."
   ]
  },
  {
   "cell_type": "code",
   "execution_count": 7,
   "metadata": {
    "scrolled": true
   },
   "outputs": [
    {
     "data": {
      "text/html": [
       "<div>\n",
       "<style scoped>\n",
       "    .dataframe tbody tr th:only-of-type {\n",
       "        vertical-align: middle;\n",
       "    }\n",
       "\n",
       "    .dataframe tbody tr th {\n",
       "        vertical-align: top;\n",
       "    }\n",
       "\n",
       "    .dataframe thead th {\n",
       "        text-align: right;\n",
       "    }\n",
       "</style>\n",
       "<table border=\"1\" class=\"dataframe\">\n",
       "  <thead>\n",
       "    <tr style=\"text-align: right;\">\n",
       "      <th></th>\n",
       "      <th>match_id</th>\n",
       "      <th>win</th>\n",
       "      <th>chat</th>\n",
       "    </tr>\n",
       "  </thead>\n",
       "  <tbody>\n",
       "    <tr>\n",
       "      <th>0</th>\n",
       "      <td>2078532827</td>\n",
       "      <td>0</td>\n",
       "      <td>zZZ NOOB PURA MRD REPORT SLARK CARRY NOOB NOOO...</td>\n",
       "    </tr>\n",
       "    <tr>\n",
       "      <th>1</th>\n",
       "      <td>2078532827</td>\n",
       "      <td>1</td>\n",
       "      <td>ill take it Ty much appreicated duel him bro R...</td>\n",
       "    </tr>\n",
       "    <tr>\n",
       "      <th>2</th>\n",
       "      <td>2078604027</td>\n",
       "      <td>0</td>\n",
       "      <td>? fedeando clinck? Agradece al lag hjp no veo ...</td>\n",
       "    </tr>\n",
       "    <tr>\n",
       "      <th>3</th>\n",
       "      <td>2078604027</td>\n",
       "      <td>1</td>\n",
       "      <td>? wow illl take it shcakle of the year Gg hes ...</td>\n",
       "    </tr>\n",
       "    <tr>\n",
       "      <th>4</th>\n",
       "      <td>3251949218</td>\n",
       "      <td>0</td>\n",
       "      <td>LOL LOL lol lol fed tru true I got one too :) gg</td>\n",
       "    </tr>\n",
       "  </tbody>\n",
       "</table>\n",
       "</div>"
      ],
      "text/plain": [
       "     match_id  win                                               chat\n",
       "0  2078532827    0  zZZ NOOB PURA MRD REPORT SLARK CARRY NOOB NOOO...\n",
       "1  2078532827    1  ill take it Ty much appreicated duel him bro R...\n",
       "2  2078604027    0  ? fedeando clinck? Agradece al lag hjp no veo ...\n",
       "3  2078604027    1  ? wow illl take it shcakle of the year Gg hes ...\n",
       "4  3251949218    0   LOL LOL lol lol fed tru true I got one too :) gg"
      ]
     },
     "execution_count": 7,
     "metadata": {},
     "output_type": "execute_result"
    }
   ],
   "source": [
    "chat_data = data.groupby(['match_id', 'win'])['chat'].apply(' '.join).reset_index()\n",
    "chat_data.head()"
   ]
  },
  {
   "cell_type": "markdown",
   "metadata": {},
   "source": [
    "Dropping the column containing match ids since it is not a part of the analysis"
   ]
  },
  {
   "cell_type": "code",
   "execution_count": 8,
   "metadata": {
    "scrolled": true
   },
   "outputs": [
    {
     "data": {
      "text/html": [
       "<div>\n",
       "<style scoped>\n",
       "    .dataframe tbody tr th:only-of-type {\n",
       "        vertical-align: middle;\n",
       "    }\n",
       "\n",
       "    .dataframe tbody tr th {\n",
       "        vertical-align: top;\n",
       "    }\n",
       "\n",
       "    .dataframe thead th {\n",
       "        text-align: right;\n",
       "    }\n",
       "</style>\n",
       "<table border=\"1\" class=\"dataframe\">\n",
       "  <thead>\n",
       "    <tr style=\"text-align: right;\">\n",
       "      <th></th>\n",
       "      <th>win</th>\n",
       "      <th>chat</th>\n",
       "    </tr>\n",
       "  </thead>\n",
       "  <tbody>\n",
       "    <tr>\n",
       "      <th>0</th>\n",
       "      <td>0</td>\n",
       "      <td>zZZ NOOB PURA MRD REPORT SLARK CARRY NOOB NOOO...</td>\n",
       "    </tr>\n",
       "    <tr>\n",
       "      <th>1</th>\n",
       "      <td>1</td>\n",
       "      <td>ill take it Ty much appreicated duel him bro R...</td>\n",
       "    </tr>\n",
       "    <tr>\n",
       "      <th>2</th>\n",
       "      <td>0</td>\n",
       "      <td>? fedeando clinck? Agradece al lag hjp no veo ...</td>\n",
       "    </tr>\n",
       "    <tr>\n",
       "      <th>3</th>\n",
       "      <td>1</td>\n",
       "      <td>? wow illl take it shcakle of the year Gg hes ...</td>\n",
       "    </tr>\n",
       "    <tr>\n",
       "      <th>4</th>\n",
       "      <td>0</td>\n",
       "      <td>LOL LOL lol lol fed tru true I got one too :) gg</td>\n",
       "    </tr>\n",
       "  </tbody>\n",
       "</table>\n",
       "</div>"
      ],
      "text/plain": [
       "   win                                               chat\n",
       "0    0  zZZ NOOB PURA MRD REPORT SLARK CARRY NOOB NOOO...\n",
       "1    1  ill take it Ty much appreicated duel him bro R...\n",
       "2    0  ? fedeando clinck? Agradece al lag hjp no veo ...\n",
       "3    1  ? wow illl take it shcakle of the year Gg hes ...\n",
       "4    0   LOL LOL lol lol fed tru true I got one too :) gg"
      ]
     },
     "execution_count": 8,
     "metadata": {},
     "output_type": "execute_result"
    }
   ],
   "source": [
    "# drop match_id column\n",
    "chat_data = chat_data.drop(columns=['match_id'], axis=1)\n",
    "chat_data.head()"
   ]
  },
  {
   "cell_type": "code",
   "execution_count": 9,
   "metadata": {},
   "outputs": [
    {
     "name": "stdout",
     "output_type": "stream",
     "text": [
      "Out of 786 rows, 413 are wins, 373 are loses\n"
     ]
    }
   ],
   "source": [
    "# how many wins/lost are there\n",
    "print(\"Out of {} rows, {} are wins, {} are loses\".format(len(chat_data),\n",
    "                                                         len(chat_data[chat_data['win']==1]),\n",
    "                                                         len(chat_data[chat_data['win']==0])))"
   ]
  },
  {
   "cell_type": "code",
   "execution_count": 10,
   "metadata": {
    "scrolled": true
   },
   "outputs": [
    {
     "name": "stdout",
     "output_type": "stream",
     "text": [
      "Number of null in win: 0\n",
      "Number of null in chat: 0\n"
     ]
    }
   ],
   "source": [
    "# are there any missing data\n",
    "\n",
    "print(\"Number of null in win: {}\".format(chat_data['win'].isnull().sum()))\n",
    "print(\"Number of null in chat: {}\".format(chat_data['chat'].isnull().sum()))"
   ]
  },
  {
   "cell_type": "code",
   "execution_count": 11,
   "metadata": {
    "scrolled": true
   },
   "outputs": [
    {
     "data": {
      "text/plain": [
       "gg        570\n",
       "?         313\n",
       "ez        262\n",
       "lol       216\n",
       "you       194\n",
       "report    167\n",
       "i         142\n",
       "no        134\n",
       "to        133\n",
       "a         129\n",
       "dtype: int64"
      ]
     },
     "execution_count": 11,
     "metadata": {},
     "output_type": "execute_result"
    }
   ],
   "source": [
    "# top 10 common words\n",
    "\n",
    "freq_words = pd.Series(' '.join(chat_data['chat']).split()).value_counts()[:10]\n",
    "freq_words"
   ]
  },
  {
   "cell_type": "code",
   "execution_count": 12,
   "metadata": {},
   "outputs": [],
   "source": [
    "chat_data['chat length'] = chat_data['chat'].apply(lambda x: len(x) -x.count(\" \"))\n"
   ]
  },
  {
   "cell_type": "code",
   "execution_count": 13,
   "metadata": {},
   "outputs": [],
   "source": [
    "import string\n",
    "\n",
    "def gg_count(text):\n",
    "    text = text.lower()\n",
    "    count = text.count('gg') #+ text.count('ez')\n",
    "    return count\n",
    "\n",
    "chat_data['gg count'] = chat_data[\"chat\"].apply(lambda x: gg_count(x))"
   ]
  },
  {
   "cell_type": "code",
   "execution_count": 14,
   "metadata": {},
   "outputs": [],
   "source": [
    "def report_count(text):\n",
    "    text = text.lower()\n",
    "    count = text.count('report')\n",
    "    return count\n",
    "\n",
    "chat_data['report count'] = chat_data[\"chat\"].apply(lambda x : report_count(x))"
   ]
  },
  {
   "cell_type": "code",
   "execution_count": 15,
   "metadata": {},
   "outputs": [],
   "source": [
    "def punctuation_percent(text):\n",
    "    count = sum([1 for char in text if char in string.punctuation])\n",
    "    percentage = round(count/(len(text)-text.count(\" \")), 3)*100\n",
    "    return percentage\n",
    "\n",
    "chat_data['punctuation percent'] = chat_data[\"chat\"].apply(lambda x: punctuation_percent(x))"
   ]
  },
  {
   "cell_type": "code",
   "execution_count": 16,
   "metadata": {},
   "outputs": [],
   "source": [
    "def cap_percent(text):\n",
    "    count = sum([1 for char in text if char.isupper()])\n",
    "    percentage = round(count/(len(text)-text.count(\" \")), 3)*100\n",
    "    return percentage\n",
    "\n",
    "chat_data['capitalized percent'] = chat_data[\"chat\"].apply(lambda x: cap_percent(x))"
   ]
  },
  {
   "cell_type": "code",
   "execution_count": 17,
   "metadata": {
    "scrolled": true
   },
   "outputs": [
    {
     "data": {
      "image/png": "[encoded data removed]",
      "text/plain": [
       "<Figure size 432x288 with 1 Axes>"
      ]
     },
     "metadata": {
      "needs_background": "light"
     },
     "output_type": "display_data"
    }
   ],
   "source": [
    "from matplotlib import pyplot\n",
    "%matplotlib inline\n",
    "\n",
    "bins = np.linspace(0, 100, 20)\n",
    "pyplot.hist(chat_data[chat_data['win']==1]['chat length'], bins, alpha=0.5, density=True, label=\"win\")\n",
    "pyplot.hist(chat_data[chat_data['win']==0]['chat length'], bins, alpha=0.5, density=True, label=\"lose\")\n",
    "pyplot.legend(loc='upper right')\n",
    "pyplot.title(\"chat length distribution\")\n",
    "pyplot.show()"
   ]
  },
  {
   "cell_type": "code",
   "execution_count": 18,
   "metadata": {
    "scrolled": true
   },
   "outputs": [
    {
     "data": {
      "image/png": "[encoded data removed]",
      "text/plain": [
       "<Figure size 432x288 with 1 Axes>"
      ]
     },
     "metadata": {
      "needs_background": "light"
     },
     "output_type": "display_data"
    }
   ],
   "source": [
    "%matplotlib inline\n",
    "\n",
    "bins = np.linspace(0, 10, 10)\n",
    "pyplot.hist(chat_data['gg count'], bins)\n",
    "#pyplot.hist(chat_data[chat_data['win']==0]['gg count'], bins, alpha=0.5, density=True, label=\"lose\")\n",
    "#pyplot.legend(loc='upper right')\n",
    "pyplot.title(\"gg count distribution\")\n",
    "pyplot.show()"
   ]
  },
  {
   "cell_type": "code",
   "execution_count": 19,
   "metadata": {
    "scrolled": false
   },
   "outputs": [],
   "source": [
    "#for i in range(1,20):\n",
    "#    pyplot.hist(chat_data['gg count']**(1/i), bins=20)\n",
    "#    pyplot.title(\"Transformation: 1/{}\".format(str(i)))\n",
    "#    pyplot.show()"
   ]
  },
  {
   "cell_type": "code",
   "execution_count": 20,
   "metadata": {},
   "outputs": [],
   "source": [
    "chat_data['gg count'] = chat_data['gg count']**(1/11)"
   ]
  },
  {
   "cell_type": "code",
   "execution_count": 21,
   "metadata": {
    "scrolled": true
   },
   "outputs": [
    {
     "data": {
      "image/png": "[encoded data removed]",
      "text/plain": [
       "<Figure size 432x288 with 1 Axes>"
      ]
     },
     "metadata": {
      "needs_background": "light"
     },
     "output_type": "display_data"
    }
   ],
   "source": [
    "%matplotlib inline\n",
    "\n",
    "bins = np.linspace(0, 10, 10)\n",
    "pyplot.hist(chat_data['report count'], bins)\n",
    "#pyplot.hist(chat_data[chat_data['win']==0]['report count'], bins, alpha=0.5, density=True, label=\"lose\")\n",
    "#pyplot.legend(loc='upper right')\n",
    "pyplot.title(\"report count distribution\")\n",
    "pyplot.show()"
   ]
  },
  {
   "cell_type": "code",
   "execution_count": 22,
   "metadata": {
    "scrolled": true
   },
   "outputs": [
    {
     "data": {
      "image/png": "[encoded data removed]",
      "text/plain": [
       "<Figure size 432x288 with 1 Axes>"
      ]
     },
     "metadata": {
      "needs_background": "light"
     },
     "output_type": "display_data"
    }
   ],
   "source": [
    "bins = np.linspace(0, 100, 10)\n",
    "pyplot.hist(chat_data[chat_data['win']==1]['punctuation percent'], bins, alpha=0.5, density=True, label=\"win\")\n",
    "pyplot.hist(chat_data[chat_data['win']==0]['punctuation percent'], bins, alpha=0.5, density=True, label=\"lose\")\n",
    "pyplot.legend(loc='upper right')\n",
    "pyplot.title(\"punctuation distribution distribution\")\n",
    "pyplot.show()"
   ]
  },
  {
   "cell_type": "code",
   "execution_count": 23,
   "metadata": {
    "scrolled": true
   },
   "outputs": [
    {
     "data": {
      "image/png": "[encoded data removed]",
      "text/plain": [
       "<Figure size 432x288 with 1 Axes>"
      ]
     },
     "metadata": {
      "needs_background": "light"
     },
     "output_type": "display_data"
    }
   ],
   "source": [
    "bins = np.linspace(0, 50, 10)\n",
    "pyplot.hist(chat_data[chat_data['win']==1]['capitalized percent'], bins)\n",
    "#pyplot.hist(chat_data[chat_data['win']==0]['capitalized percent'], bins, alpha=0.5, density=True, label=\"lose\")\n",
    "#pyplot.legend(loc='upper right')\n",
    "pyplot.title(\"capitalized percent distribution\")\n",
    "pyplot.show()"
   ]
  },
  {
   "cell_type": "code",
   "execution_count": 24,
   "metadata": {},
   "outputs": [
    {
     "data": {
      "image/png": "[encoded data removed]",
      "text/plain": [
       "<Figure size 432x288 with 1 Axes>"
      ]
     },
     "metadata": {
      "needs_background": "light"
     },
     "output_type": "display_data"
    },
    {
     "data": {
      "image/png": "[encoded data removed]",
      "text/plain": [
       "<Figure size 432x288 with 1 Axes>"
      ]
     },
     "metadata": {
      "needs_background": "light"
     },
     "output_type": "display_data"
    },
    {
     "data": {
      "image/png": "[encoded data removed]",
      "text/plain": [
       "<Figure size 432x288 with 1 Axes>"
      ]
     },
     "metadata": {
      "needs_background": "light"
     },
     "output_type": "display_data"
    },
    {
     "data": {
      "image/png": "[encoded data removed]",
      "text/plain": [
       "<Figure size 432x288 with 1 Axes>"
      ]
     },
     "metadata": {
      "needs_background": "light"
     },
     "output_type": "display_data"
    },
    {
     "data": {
      "image/png": "[encoded data removed]",
      "text/plain": [
       "<Figure size 432x288 with 1 Axes>"
      ]
     },
     "metadata": {
      "needs_background": "light"
     },
     "output_type": "display_data"
    },
    {
     "data": {
      "image/png": "[encoded data removed]",
      "text/plain": [
       "<Figure size 432x288 with 1 Axes>"
      ]
     },
     "metadata": {
      "needs_background": "light"
     },
     "output_type": "display_data"
    },
    {
     "data": {
      "image/png": "[encoded data removed]",
      "text/plain": [
       "<Figure size 432x288 with 1 Axes>"
      ]
     },
     "metadata": {
      "needs_background": "light"
     },
     "output_type": "display_data"
    },
    {
     "data": {
      "image/png": "[encoded data removed]",
      "text/plain": [
       "<Figure size 432x288 with 1 Axes>"
      ]
     },
     "metadata": {
      "needs_background": "light"
     },
     "output_type": "display_data"
    },
    {
     "data": {
      "image/png": "[encoded data removed]",
      "text/plain": [
       "<Figure size 432x288 with 1 Axes>"
      ]
     },
     "metadata": {
      "needs_background": "light"
     },
     "output_type": "display_data"
    },
    {
     "data": {
      "image/png": "[encoded data removed]",
      "text/plain": [
       "<Figure size 432x288 with 1 Axes>"
      ]
     },
     "metadata": {
      "needs_background": "light"
     },
     "output_type": "display_data"
    },
    {
     "data": {
      "image/png": "[encoded data removed]",
      "text/plain": [
       "<Figure size 432x288 with 1 Axes>"
      ]
     },
     "metadata": {
      "needs_background": "light"
     },
     "output_type": "display_data"
    }
   ],
   "source": [
    "# capitalized percent has a long right tail\n",
    "# Box-Cox Power Transformation\n",
    "for i in range(1,12):\n",
    "    pyplot.hist(chat_data['capitalized percent']**(1/i), bins=10)\n",
    "    pyplot.title(\"Transformation: 1/{}\".format(str(i)))\n",
    "    pyplot.show()\n"
   ]
  },
  {
   "cell_type": "code",
   "execution_count": 25,
   "metadata": {},
   "outputs": [],
   "source": [
    "chat_data['capitalized percent'] = chat_data['capitalized percent']**(1/9)"
   ]
  },
  {
   "cell_type": "markdown",
   "metadata": {},
   "source": [
    "# Pre-processing chat data"
   ]
  },
  {
   "cell_type": "markdown",
   "metadata": {},
   "source": [
    "In this section I will create a function to remove punctuation, stopwords, and anything else in the chat data that could help reduce the amount of unnessary information that the model will have to look at. Furthermore, I will tokenize the data to prepare for vectorizing the in the next part."
   ]
  },
  {
   "cell_type": "code",
   "execution_count": 26,
   "metadata": {},
   "outputs": [],
   "source": [
    "hero_data = pd.read_csv('heroes.csv')\n",
    "hero_data.head()\n",
    "hero_names = hero_data['localized_name'].tolist()"
   ]
  },
  {
   "cell_type": "code",
   "execution_count": 27,
   "metadata": {
    "scrolled": true
   },
   "outputs": [],
   "source": [
    "import nltk\n",
    "import string\n",
    "import re\n",
    "from textblob import TextBlob\n",
    "stopword = nltk.corpus.stopwords.words('english')\n",
    "ps = nltk.PorterStemmer()\n",
    "\n",
    "def clean_chat(text):\n",
    "    text_no_punct = \"\".join([char for char in text if char not in string.punctuation])\n",
    "    token_text = re.split('\\W+', text_no_punct)\n",
    "    text_no_names = [word for word in token_text if word not in hero_names]\n",
    "    text_no_stop = [ps.stem(word) for word in text_no_names if word not in stopword]\n",
    "    #text = [TextBlob(word).correct() for word in text_no_stop]\n",
    "    return text_no_stop"
   ]
  },
  {
   "cell_type": "markdown",
   "metadata": {},
   "source": [
    "# Split into train and test set"
   ]
  },
  {
   "cell_type": "markdown",
   "metadata": {},
   "source": [
    "I will split the dataset into training and test set with a ratio of 8:2 repsectively."
   ]
  },
  {
   "cell_type": "code",
   "execution_count": 28,
   "metadata": {},
   "outputs": [],
   "source": [
    "from sklearn.model_selection import train_test_split\n",
    "\n",
    "x_train, x_test, y_train, y_test = train_test_split(chat_data[['chat', 'chat length', 'gg count', 'capitalized percent','report count']], \n",
    "                                                    chat_data['win'], \n",
    "                                                    test_size=0.2, \n",
    "                                                    random_state = 21)"
   ]
  },
  {
   "cell_type": "markdown",
   "metadata": {},
   "source": [
    "# Vectorizing"
   ]
  },
  {
   "cell_type": "markdown",
   "metadata": {},
   "source": [
    "Machine learning models does not know what each words actually mean. In order to train the models, We will first need to convert the data into vectors of numbers. In this section I will apply two different vectorizers(Tfidf and Count) and compare the results against various models in the next section."
   ]
  },
  {
   "cell_type": "code",
   "execution_count": 29,
   "metadata": {},
   "outputs": [],
   "source": [
    "from sklearn.feature_extraction.text import CountVectorizer,TfidfVectorizer\n",
    "\n",
    "# Apply TfidfVectorizer\n",
    "tfidf_vect = TfidfVectorizer(analyzer = clean_chat)\n",
    "x_tfidf = tfidf_vect.fit(x_train['chat'])\n",
    "\n",
    "tfidf_train = x_tfidf.transform(x_train['chat'])\n",
    "tfidf_test = x_tfidf.transform(x_test['chat'])\n",
    "\n",
    "#apply count vectorizer\n",
    "count_vect = CountVectorizer(analyzer=clean_chat)\n",
    "x_counts = count_vect.fit(x_train['chat'])\n",
    "\n",
    "count_train = x_counts.transform(x_train['chat'])\n",
    "count_test = x_counts.transform(x_test['chat'])"
   ]
  },
  {
   "cell_type": "code",
   "execution_count": null,
   "metadata": {},
   "outputs": [],
   "source": []
  },
  {
   "cell_type": "markdown",
   "metadata": {},
   "source": [
    "# Model Selection"
   ]
  },
  {
   "cell_type": "markdown",
   "metadata": {},
   "source": [
    "In this section I will train various classifiers and compare their prediction abilities."
   ]
  },
  {
   "cell_type": "markdown",
   "metadata": {},
   "source": [
    "## RandomForest"
   ]
  },
  {
   "cell_type": "code",
   "execution_count": 32,
   "metadata": {},
   "outputs": [
    {
     "name": "stdout",
     "output_type": "stream",
     "text": [
      "Precision: 0.717 / Recall: 0.725 / Accuracy: 0.677\n"
     ]
    }
   ],
   "source": [
    "from sklearn.metrics import precision_recall_fscore_support as score\n",
    "\n",
    "rf = RandomForestClassifier(n_estimators =150, max_depth=None, n_jobs=-1, random_state=21)\n",
    "rf_model = rf.fit(tfidf_train, y_train)\n",
    "y_predict = rf_model.predict(tfidf_test)\n",
    "\n",
    "precision, recall, fscore, train_support = score(y_test, y_predict, pos_label=1, average='binary')\n",
    "print('Precision: {} / Recall: {} / Accuracy: {}'.format(round(precision, 3), \n",
    "                                                         round(recall, 3), \n",
    "                                                         round((y_predict == y_test).sum()/len(y_predict), 3)))"
   ]
  },
  {
   "cell_type": "code",
   "execution_count": 42,
   "metadata": {},
   "outputs": [
    {
     "data": {
      "text/plain": [
       "Text(0.5, 1.0, 'TfidfVectorizer RandomForest Confusion Matrix')"
      ]
     },
     "execution_count": 42,
     "metadata": {},
     "output_type": "execute_result"
    },
    {
     "data": {
      "image/png": "[encoded data removed]",
      "text/plain": [
       "<Figure size 432x288 with 2 Axes>"
      ]
     },
     "metadata": {
      "needs_background": "light"
     },
     "output_type": "display_data"
    }
   ],
   "source": [
    "nb_cm = metrics.plot_confusion_matrix(rf,\n",
    "                                       tfidf_test,\n",
    "                                       y_test,\n",
    "                                       display_labels=[\"win\", \"lose\"],\n",
    "                                       cmap=pyplot.cm.Blues)\n",
    "pyplot.title('TfidfVectorizer RandomForest Confusion Matrix')"
   ]
  },
  {
   "cell_type": "markdown",
   "metadata": {},
   "source": [
    "## Linear SVC"
   ]
  },
  {
   "cell_type": "code",
   "execution_count": 33,
   "metadata": {
    "scrolled": true
   },
   "outputs": [
    {
     "name": "stdout",
     "output_type": "stream",
     "text": [
      "tfidf : Precision: 0.688 / Recall: 0.725 / Accuracy: 0.652\n",
      "count : Precision: 0.694 / Recall: 0.747 / Accuracy: 0.665\n"
     ]
    }
   ],
   "source": [
    "from sklearn.svm import LinearSVC\n",
    "lsvc = LinearSVC()\n",
    "lsvc_model = lsvc.fit(tfidf_train, y_train)\n",
    "lsvc_predict = lsvc_model.predict(tfidf_test)\n",
    "#lsvc_score = metrics.accuracy_score(lsvc_predict, y_test)\n",
    "precision, recall, fscore, train_support = score(y_test, lsvc_predict, pos_label=1, average='binary')\n",
    "print('tfidf : Precision: {} / Recall: {} / Accuracy: {}'.format(round(precision, 3), \n",
    "                                                                 round(recall, 3), \n",
    "                                                                 round((lsvc_predict == y_test).sum()/len(lsvc_predict), 3)))\n",
    "\n",
    "lsvc_model_count = lsvc.fit(count_train, y_train)\n",
    "lsvc_predict_count = lsvc_model_count.predict(count_test)\n",
    "lsvc_score_count = metrics.accuracy_score(lsvc_predict_count, y_test)\n",
    "\n",
    "precision, recall, fscore, train_support = score(y_test, lsvc_predict_count, pos_label=1, average='binary')\n",
    "print('count : Precision: {} / Recall: {} / Accuracy: {}'.format(round(precision, 3), \n",
    "                                                                 round(recall, 3), \n",
    "                                                                 round((lsvc_predict_count == y_test).sum()/len(lsvc_predict_count), 3)))\n"
   ]
  },
  {
   "cell_type": "code",
   "execution_count": 34,
   "metadata": {},
   "outputs": [
    {
     "data": {
      "image/png": "[encoded data removed]",
      "text/plain": [
       "<Figure size 432x288 with 2 Axes>"
      ]
     },
     "metadata": {
      "needs_background": "light"
     },
     "output_type": "display_data"
    }
   ],
   "source": [
    "lsvc_cm = metrics.plot_confusion_matrix(lsvc,\n",
    "                                       tfidf_test,\n",
    "                                       y_test,\n",
    "                                       display_labels=[\"win\", \"lose\"],\n",
    "                                       cmap=pyplot.cm.Blues)"
   ]
  },
  {
   "cell_type": "markdown",
   "metadata": {},
   "source": [
    "## Multinomial Naive Bayes"
   ]
  },
  {
   "cell_type": "code",
   "execution_count": 35,
   "metadata": {},
   "outputs": [
    {
     "name": "stdout",
     "output_type": "stream",
     "text": [
      "tfidf : Precision: 0.636 / Recall: 0.769 / Accuracy: 0.614\n",
      "count : Precision: 0.667 / Recall: 0.747 / Accuracy: 0.639\n"
     ]
    }
   ],
   "source": [
    "from sklearn.naive_bayes import MultinomialNB\n",
    "\n",
    "nb = MultinomialNB()\n",
    "nb_model = nb.fit(tfidf_train, y_train)\n",
    "nb_predict = nb_model.predict(tfidf_test)\n",
    "nb_score = metrics.accuracy_score(y_test, nb_predict)\n",
    "precision, recall, fscore, train_support = score(y_test, nb_predict, pos_label=1, average='binary')\n",
    "print('tfidf : Precision: {} / Recall: {} / Accuracy: {}'.format(round(precision, 3), \n",
    "                                                                 round(recall, 3), \n",
    "                                                                 round((nb_predict == y_test).sum()/len(nb_predict), 3)))\n",
    "nb_model_count = nb.fit(count_train, y_train)\n",
    "nb_predict_count = nb_model_count.predict(count_test)\n",
    "nb_score_count = metrics.accuracy_score(y_test, nb_predict_count)\n",
    "\n",
    "precision, recall, fscore, train_support = score(y_test, nb_predict_count, pos_label=1, average='binary')\n",
    "print('count : Precision: {} / Recall: {} / Accuracy: {}'.format(round(precision, 3), \n",
    "                                                                 round(recall, 3), \n",
    "                                                                 round((nb_predict_count == y_test).sum()/len(nb_predict_count), 3)))"
   ]
  },
  {
   "cell_type": "code",
   "execution_count": 40,
   "metadata": {
    "scrolled": false
   },
   "outputs": [
    {
     "data": {
      "text/plain": [
       "Text(0.5, 1.0, 'TfidfVectorizer Multinomial Naive Bayes Confusion Matrix')"
      ]
     },
     "execution_count": 40,
     "metadata": {},
     "output_type": "execute_result"
    },
    {
     "data": {
      "image/png": "[encoded data removed]",
      "text/plain": [
       "<Figure size 432x288 with 2 Axes>"
      ]
     },
     "metadata": {
      "needs_background": "light"
     },
     "output_type": "display_data"
    }
   ],
   "source": [
    "nb_cm = metrics.plot_confusion_matrix(nb,\n",
    "                                       tfidf_test,\n",
    "                                       y_test,\n",
    "                                       display_labels=[\"win\", \"lose\"],\n",
    "                                       cmap=pyplot.cm.Blues)\n",
    "pyplot.title('TfidfVectorizer Multinomial Naive Bayes Confusion Matrix')"
   ]
  },
  {
   "cell_type": "code",
   "execution_count": 41,
   "metadata": {},
   "outputs": [
    {
     "data": {
      "text/plain": [
       "Text(0.5, 1.0, 'CountVectorizer Multinomial Naive Bayes Confusion Matrix')"
      ]
     },
     "execution_count": 41,
     "metadata": {},
     "output_type": "execute_result"
    },
    {
     "data": {
      "image/png": "[encoded data removed]",
      "text/plain": [
       "<Figure size 432x288 with 2 Axes>"
      ]
     },
     "metadata": {
      "needs_background": "light"
     },
     "output_type": "display_data"
    }
   ],
   "source": [
    "nb_cm_count = metrics.plot_confusion_matrix(nb,\n",
    "                                       count_test,\n",
    "                                       y_test,\n",
    "                                       display_labels=[\"win\", \"lose\"],\n",
    "                                       cmap=pyplot.cm.Blues)\n",
    "pyplot.title('CountVectorizer Multinomial Naive Bayes Confusion Matrix')"
   ]
  },
  {
   "cell_type": "markdown",
   "metadata": {},
   "source": [
    "## Logistic Regression"
   ]
  },
  {
   "cell_type": "code",
   "execution_count": 37,
   "metadata": {
    "scrolled": true
   },
   "outputs": [
    {
     "name": "stdout",
     "output_type": "stream",
     "text": [
      "tfidf : Precision: 0.7 / Recall: 0.769 / Accuracy: 0.677\n",
      "count : Precision: 0.763 / Recall: 0.78 / Accuracy: 0.734\n"
     ]
    }
   ],
   "source": [
    "from sklearn.linear_model import LogisticRegression\n",
    "\n",
    "log_reg = LogisticRegression()\n",
    "log_model = log_reg.fit(tfidf_train, y_train)\n",
    "log_predict = log_model.predict(tfidf_test)\n",
    "log_score = metrics.accuracy_score(y_test, log_predict)\n",
    "\n",
    "precision, recall, fscore, train_support = score(y_test, log_predict, pos_label=1, average='binary')\n",
    "print('tfidf : Precision: {} / Recall: {} / Accuracy: {}'.format(round(precision, 3), \n",
    "                                                                 round(recall, 3), \n",
    "                                                                 round((log_predict == y_test).sum()/len(log_predict), 3)))\n",
    "\n",
    "log_model_count = log_reg.fit(count_train, y_train)\n",
    "log_predict_count = log_model_count.predict(count_test)\n",
    "log_score_count = metrics.accuracy_score(y_test, log_predict_count)\n",
    "\n",
    "precision, recall, fscore, train_support = score(y_test, log_predict_count, pos_label=1, average='binary')\n",
    "print('count : Precision: {} / Recall: {} / Accuracy: {}'.format(round(precision, 3), \n",
    "                                                                 round(recall, 3), \n",
    "                                                                 round((log_predict_count == y_test).sum()/len(log_predict_count), 3)))"
   ]
  },
  {
   "cell_type": "code",
   "execution_count": 38,
   "metadata": {},
   "outputs": [
    {
     "data": {
      "text/plain": [
       "Text(0.5, 1.0, 'TfidfVectorizer Logistic Regression Confusion Matrix')"
      ]
     },
     "execution_count": 38,
     "metadata": {},
     "output_type": "execute_result"
    },
    {
     "data": {
      "image/png": "[encoded data removed]",
      "text/plain": [
       "<Figure size 432x288 with 2 Axes>"
      ]
     },
     "metadata": {
      "needs_background": "light"
     },
     "output_type": "display_data"
    }
   ],
   "source": [
    "log_cm = metrics.plot_confusion_matrix(log_reg,\n",
    "                                       tfidf_test,\n",
    "                                       y_test,\n",
    "                                       display_labels=[\"win\", \"lose\"],\n",
    "                                       cmap=pyplot.cm.Blues)\n",
    "pyplot.title('TfidfVectorizer Logistic Regression Confusion Matrix')"
   ]
  },
  {
   "cell_type": "code",
   "execution_count": 39,
   "metadata": {
    "scrolled": true
   },
   "outputs": [
    {
     "data": {
      "text/plain": [
       "Text(0.5, 1.0, 'CountVectorizer Logistic Regression Confusion Matrix')"
      ]
     },
     "execution_count": 39,
     "metadata": {},
     "output_type": "execute_result"
    },
    {
     "data": {
      "image/png": "[encoded data removed]",
      "text/plain": [
       "<Figure size 432x288 with 2 Axes>"
      ]
     },
     "metadata": {
      "needs_background": "light"
     },
     "output_type": "display_data"
    }
   ],
   "source": [
    "log_cm_count = metrics.plot_confusion_matrix(log_reg,\n",
    "                                       count_test,\n",
    "                                       y_test,\n",
    "                                       display_labels=[\"win\", \"lose\"],\n",
    "                                       cmap=pyplot.cm.Blues)\n",
    "pyplot.title('CountVectorizer Logistic Regression Confusion Matrix')"
   ]
  },
  {
   "cell_type": "code",
   "execution_count": null,
   "metadata": {},
   "outputs": [],
   "source": []
  },
  {
   "cell_type": "code",
   "execution_count": null,
   "metadata": {},
   "outputs": [],
   "source": []
  }
 ],
 "metadata": {
  "kernelspec": {
   "display_name": "Python 3",
   "language": "python",
   "name": "python3"
  },
  "language_info": {
   "codemirror_mode": {
    "name": "ipython",
    "version": 3
   },
   "file_extension": ".py",
   "mimetype": "text/x-python",
   "name": "python",
   "nbconvert_exporter": "python",
   "pygments_lexer": "ipython3",
   "version": "3.7.4"
  }
 },
 "nbformat": 4,
 "nbformat_minor": 4
}
